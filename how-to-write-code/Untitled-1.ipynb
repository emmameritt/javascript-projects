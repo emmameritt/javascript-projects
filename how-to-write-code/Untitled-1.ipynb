{
 "cells": [
  {
   "cell_type": "code",
   "execution_count": null,
   "metadata": {},
   "outputs": [],
   "source": [
    "const input = require('readline-sync');\n",
    "\n",
    "let info = input.question(\"Please enter your age: \");\n",
    "//The user enters 25.\n",
    "\n",
    "console.log(typeof info);"
   ]
  }
 ],
 "metadata": {
  "language_info": {
   "name": "python"
  }
 },
 "nbformat": 4,
 "nbformat_minor": 2
}
